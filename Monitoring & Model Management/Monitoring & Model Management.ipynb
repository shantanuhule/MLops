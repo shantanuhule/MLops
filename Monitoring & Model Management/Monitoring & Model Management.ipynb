{
 "cells": [
  {
   "cell_type": "markdown",
   "id": "e8441056-0cac-45a2-9aad-90a7dc2f9e39",
   "metadata": {},
   "source": [
    "## Monitoring & Model Management"
   ]
  },
  {
   "cell_type": "markdown",
   "id": "dd9cf975-d4b8-4038-a98d-e46ea824a7d4",
   "metadata": {},
   "source": [
    "**Monitor**\n",
    "\n",
    "Data inputs (are they drifting from training distribution?)\n",
    "\n",
    "Predictions (are they degrading in accuracy or stability?)\n",
    "\n",
    "System health (latency, error rates, resource usage).\n",
    "\n",
    "**Manage**\n",
    "\n",
    "Versioning models (promote/demote models in production).\n",
    "\n",
    "Rolling back to previous versions if performance drops.\n",
    "\n",
    "Automating retraining when drift is detected."
   ]
  },
  {
   "cell_type": "markdown",
   "id": "a5f95768-1fb0-4d08-8787-e9c26ffe52c1",
   "metadata": {},
   "source": [
    "| Type of Monitoring      | Examples                                       | Tools                                                       |\n",
    "| ----------------------- | ---------------------------------------------- | ----------------------------------------------------------- |\n",
    "| **Data Drift**          | Feature distributions changing over time       | Evidently AI, WhyLabs, Fiddler, AWS SageMaker Model Monitor |\n",
    "| **Concept Drift**       | Relationship between features & target changes | River (online learning), custom drift detectors             |\n",
    "| **Prediction Quality**  | Accuracy, Precision, Recall, F1, AUC over time | MLflow, Prometheus, Grafana                                 |\n",
    "| **Operational Metrics** | Latency, Throughput, Error Rates               | Prometheus, Grafana, ELK stack                              |\n",
    "| **Business KPIs**       | Conversion rate, revenue impact                | BI tools (Tableau, PowerBI)                                 |\n"
   ]
  },
  {
   "cell_type": "markdown",
   "id": "bdadeb43-cc8a-423e-90e8-0141fdde5e9c",
   "metadata": {},
   "source": [
    "Model Management Essentials\n",
    "Model Registry (e.g., MLflow Model Registry, SageMaker Model Registry, Neptune.ai)\n",
    "\n",
    "Stores models with metadata (version, metrics, source code hash).\n",
    "\n",
    "Supports staging → production promotion workflows.\n",
    "\n",
    "Lifecycle Stages\n",
    "\n",
    "Development → Staging → Production → Archived.\n",
    "\n",
    "Rollback Mechanism\n",
    "\n",
    "If a new version underperforms, quickly switch back to an older version."
   ]
  },
  {
   "cell_type": "markdown",
   "id": "b1a2abcf-422d-4867-bcf6-a5a43ba3592d",
   "metadata": {},
   "source": [
    "###  MLflow + Evidently AI + Prometheus"
   ]
  },
  {
   "cell_type": "markdown",
   "id": "74ad25bd-ce9b-4099-bc7b-8907a65e3268",
   "metadata": {},
   "source": [
    "#### Step 1: Track Models in MLflow Registry"
   ]
  },
  {
   "cell_type": "code",
   "execution_count": null,
   "id": "7dea41b8-2466-41bd-b155-35c543d64691",
   "metadata": {},
   "outputs": [],
   "source": [
    "import mlflow\n",
    "import mlflow.sklearn\n",
    "from sklearn.datasets import load_iris\n",
    "from sklearn.linear_model import LogisticRegression\n",
    "from sklearn.model_selection import train_test_split\n",
    "\n",
    "mlflow.set_tracking_uri(\"http://localhost:5000\")\n",
    "mlflow.set_experiment(\"iris-prod\")\n",
    "\n",
    "X, y = load_iris(return_X_y=True)\n",
    "X_train, X_test, y_train, y_test = train_test_split(X, y, test_size=0.2)\n",
    "\n",
    "with mlflow.start_run() as run:\n",
    "    model = LogisticRegression()\n",
    "    model.fit(X_train, y_train)\n",
    "\n",
    "    mlflow.sklearn.log_model(model, \"model\")\n",
    "    mlflow.log_metric(\"train_accuracy\", model.score(X_train, y_train))\n",
    "    mlflow.log_metric(\"test_accuracy\", model.score(X_test, y_test))\n",
    "\n",
    "    mlflow.register_model(f\"runs:/{run.info.run_id}/model\", \"iris-model\")\n"
   ]
  },
  {
   "cell_type": "markdown",
   "id": "39a56356-f4f0-42b9-bf4c-f317ef87fd22",
   "metadata": {},
   "source": [
    "#### Step 2: Monitor Drift with Evidently"
   ]
  },
  {
   "cell_type": "code",
   "execution_count": null,
   "id": "66f85c92-804d-48da-96c2-e7a962f4c9d0",
   "metadata": {},
   "outputs": [],
   "source": [
    "from evidently.report import Report\n",
    "from evidently.metrics import DataDriftPreset\n",
    "import pandas as pd\n",
    "\n",
    "# Load old and new data\n",
    "train_df = pd.DataFrame(X_train)\n",
    "current_df = pd.DataFrame(X_test)\n",
    "\n",
    "report = Report(metrics=[DataDriftPreset()])\n",
    "report.run(reference_data=train_df, current_data=current_df)\n",
    "report.save_html(\"drift_report.html\")\n"
   ]
  },
  {
   "cell_type": "markdown",
   "id": "94ced6a1-883a-4ebf-85f9-b78666a903e8",
   "metadata": {},
   "source": [
    "#### Step 3: Expose Metrics with FastAPI + Prometheus\n"
   ]
  },
  {
   "cell_type": "code",
   "execution_count": null,
   "id": "1b408895-1b61-4ff9-b1ef-7f2155f0e34b",
   "metadata": {},
   "outputs": [],
   "source": [
    "from fastapi import FastAPI\n",
    "from prometheus_client import Counter, generate_latest\n",
    "\n",
    "app = FastAPI()\n",
    "PREDICTION_COUNT = Counter(\"prediction_requests_total\", \"Number of prediction requests\")\n",
    "\n",
    "@app.post(\"/predict\")\n",
    "def predict(features: list):\n",
    "    PREDICTION_COUNT.inc()\n",
    "    # Your prediction logic...\n",
    "    return {\"prediction\": 1}\n",
    "\n",
    "@app.get(\"/metrics\")\n",
    "def metrics():\n",
    "    return generate_latest()\n"
   ]
  },
  {
   "cell_type": "markdown",
   "id": "ee4c1521-710e-4068-8aa5-88386a523e66",
   "metadata": {},
   "source": [
    "#### Step 4: Manage in Kubernetes\n",
    "\n",
    "Deploy Prometheus and Grafana using Helm charts.\n",
    "\n",
    "Deploy MLflow tracking server + model registry.\n",
    "\n",
    "Deploy your inference API with sidecar logging predictions to storage.\n",
    "\n",
    "Set up Jenkins/GitHub Actions to:\n",
    "\n",
    "Detect drift → trigger retraining job.\n",
    "\n",
    "Register new model in MLflow.\n",
    "\n",
    "Promote new model if metrics improve.\n"
   ]
  },
  {
   "cell_type": "code",
   "execution_count": null,
   "id": "66ee1264-3c8a-4004-a391-000bc5913008",
   "metadata": {},
   "outputs": [],
   "source": []
  },
  {
   "cell_type": "code",
   "execution_count": null,
   "id": "bdee5afa-c1d4-4342-bf77-b41db53bbd8c",
   "metadata": {},
   "outputs": [],
   "source": []
  },
  {
   "cell_type": "code",
   "execution_count": null,
   "id": "4608cc96-4902-4fc6-957b-29344d2a3fed",
   "metadata": {},
   "outputs": [],
   "source": []
  },
  {
   "cell_type": "code",
   "execution_count": null,
   "id": "032d7053-96da-419d-ae64-e3940de51b8d",
   "metadata": {},
   "outputs": [],
   "source": []
  },
  {
   "cell_type": "markdown",
   "id": "56aea20a-3077-41f8-9803-a30bd24d1a01",
   "metadata": {},
   "source": [
    "MLflow → Model tracking & registry\n",
    "\n",
    "Evidently → Data drift detection\n",
    "\n",
    "Prometheus + Grafana → API health monitoring\n",
    "\n",
    "Helm → Deploy to Kubernetes\n",
    "\n",
    "Jenkins → Automate retraining & rollout"
   ]
  },
  {
   "cell_type": "markdown",
   "id": "5b9d7305-d7c0-4936-9c3d-8f228eec97a7",
   "metadata": {},
   "source": [
    "#### Project Structure\n",
    "\n"
   ]
  },
  {
   "cell_type": "code",
   "execution_count": null,
   "id": "23b701f4-07a0-4e9a-9665-cc6818fe9b78",
   "metadata": {},
   "outputs": [],
   "source": [
    "mlops-iris/\n",
    "│── train_model.py             # Train and register model in MLflow\n",
    "│── inference_api.py           # FastAPI inference service\n",
    "│── drift_monitor.py           # Drift detection with Evidently\n",
    "│── requirements.txt\n",
    "│── Dockerfile\n",
    "│── k8s/\n",
    "│    ├── deployment.yaml\n",
    "│    ├── service.yaml\n",
    "│    ├── prometheus-values.yaml\n",
    "│    ├── grafana-values.yaml\n",
    "│── helm-chart/                # Helm deployment templates\n",
    "│── Jenkinsfile\n"
   ]
  },
  {
   "cell_type": "markdown",
   "id": "74c4e284-9511-4123-8382-f629b5dee5e0",
   "metadata": {},
   "source": [
    "#### Model Training & MLflow Registry"
   ]
  },
  {
   "cell_type": "code",
   "execution_count": null,
   "id": "e000aae9-cf91-4b6e-bdcc-f8a0a1e8023f",
   "metadata": {},
   "outputs": [],
   "source": [
    "import mlflow\n",
    "import mlflow.sklearn\n",
    "from sklearn.datasets import load_iris\n",
    "from sklearn.linear_model import LogisticRegression\n",
    "from sklearn.model_selection import train_test_split\n",
    "import pandas as pd\n",
    "\n",
    "# MLflow config\n",
    "mlflow.set_tracking_uri(\"http://mlflow:5000\")\n",
    "mlflow.set_experiment(\"iris-pipeline\")\n",
    "\n",
    "# Load and split data\n",
    "iris = load_iris(as_frame=True)\n",
    "X, y = iris.data, iris.target\n",
    "X_train, X_test, y_train, y_test = train_test_split(X, y, test_size=0.2)\n",
    "\n",
    "# Train & log\n",
    "with mlflow.start_run() as run:\n",
    "    model = LogisticRegression(max_iter=200)\n",
    "    model.fit(X_train, y_train)\n",
    "    \n",
    "    mlflow.sklearn.log_model(model, \"model\")\n",
    "    mlflow.log_params({\"max_iter\": 200})\n",
    "    mlflow.log_metrics({\n",
    "        \"train_acc\": model.score(X_train, y_train),\n",
    "        \"test_acc\": model.score(X_test, y_test)\n",
    "    })\n",
    "    \n",
    "    # Register model\n",
    "    mlflow.register_model(\n",
    "        f\"runs:/{run.info.run_id}/model\",\n",
    "        \"iris-classifier\"\n",
    "    )\n",
    "\n",
    "# Save test set for drift detection\n",
    "X_test.to_csv(\"reference_data.csv\", index=False)\n"
   ]
  },
  {
   "cell_type": "markdown",
   "id": "0c1c558b-65f9-43e3-b020-be85dd0b6d50",
   "metadata": {},
   "source": [
    "#### FastAPI Inference API with Prometheus Metrics"
   ]
  },
  {
   "cell_type": "markdown",
   "id": "33b45c52-bece-4fe4-90fe-1fe10819e100",
   "metadata": {},
   "source": [
    "inference_api.py"
   ]
  },
  {
   "cell_type": "code",
   "execution_count": null,
   "id": "663ce9be-4453-4a8a-b188-f0d778aac2b5",
   "metadata": {},
   "outputs": [],
   "source": [
    "from fastapi import FastAPI\n",
    "from prometheus_client import Counter, Histogram, generate_latest\n",
    "import mlflow.pyfunc\n",
    "import pandas as pd\n",
    "import numpy as np\n",
    "import time\n",
    "\n",
    "# Load latest production model\n",
    "model = mlflow.pyfunc.load_model(\"models:/iris-classifier/Production\")\n",
    "\n",
    "app = FastAPI()\n",
    "\n",
    "REQUEST_COUNT = Counter(\"prediction_requests_total\", \"Total prediction requests\")\n",
    "REQUEST_LATENCY = Histogram(\"prediction_latency_seconds\", \"Prediction latency in seconds\")\n",
    "\n",
    "@app.post(\"/predict\")\n",
    "def predict(data: list):\n",
    "    REQUEST_COUNT.inc()\n",
    "    start = time.time()\n",
    "    \n",
    "    df = pd.DataFrame(np.array(data), columns=[\"sepal_length\", \"sepal_width\", \"petal_length\", \"petal_width\"])\n",
    "    prediction = model.predict(df)\n",
    "    \n",
    "    REQUEST_LATENCY.observe(time.time() - start)\n",
    "    return {\"prediction\": prediction.tolist()}\n",
    "\n",
    "@app.get(\"/metrics\")\n",
    "def metrics():\n",
    "    return generate_latest()\n"
   ]
  },
  {
   "cell_type": "markdown",
   "id": "f51b4b42-870b-4fb2-9523-f8e2f47b01f7",
   "metadata": {},
   "source": [
    "#### Drift Detection with Evidently"
   ]
  },
  {
   "cell_type": "markdown",
   "id": "f96fe039-5bd8-478b-a27c-599663099954",
   "metadata": {},
   "source": [
    "drift_monitor.py"
   ]
  },
  {
   "cell_type": "code",
   "execution_count": null,
   "id": "1dc094d2-5775-49e7-a8b6-70daf595adc3",
   "metadata": {},
   "outputs": [],
   "source": [
    "from evidently.report import Report\n",
    "from evidently.metrics import DataDriftPreset\n",
    "import pandas as pd\n",
    "import requests\n",
    "\n",
    "# Load reference data (from training phase)\n",
    "reference_data = pd.read_csv(\"reference_data.csv\")\n",
    "\n",
    "# Fetch recent live data (for example, from API logs or DB)\n",
    "# Here we simulate\n",
    "current_data = reference_data.sample(frac=1).reset_index(drop=True)  # replace with real data\n",
    "\n",
    "# Run drift detection\n",
    "report = Report(metrics=[DataDriftPreset()])\n",
    "report.run(reference_data=reference_data, current_data=current_data)\n",
    "\n",
    "# Save HTML report\n",
    "report.save_html(\"drift_report.html\")\n",
    "\n",
    "# Trigger retraining if drift detected\n",
    "if report.as_dict()[\"metrics\"][0][\"result\"][\"data\"][\"metrics\"][\"dataset_drift\"]:\n",
    "    requests.post(\"http://jenkins:8080/job/retrain/build\")\n",
    "\n"
   ]
  },
  {
   "cell_type": "markdown",
   "id": "74c2cc65-e857-4a85-acbf-174bafbbf913",
   "metadata": {},
   "source": [
    "#### Dockerfile"
   ]
  },
  {
   "cell_type": "code",
   "execution_count": null,
   "id": "4e43c3d6-2365-4101-8001-f91d01e1748d",
   "metadata": {},
   "outputs": [],
   "source": [
    "FROM python:3.9-slim\n",
    "\n",
    "WORKDIR /app\n",
    "\n",
    "COPY requirements.txt .\n",
    "RUN pip install --no-cache-dir -r requirements.txt\n",
    "\n",
    "COPY . .\n",
    "\n",
    "CMD [\"uvicorn\", \"inference_api:app\", \"--host\", \"0.0.0.0\", \"--port\", \"8000\"]\n"
   ]
  },
  {
   "cell_type": "markdown",
   "id": "04c632de-7fc4-44d7-8d8a-7e3f225c4f27",
   "metadata": {},
   "source": [
    "#### Helm Chart Structure"
   ]
  },
  {
   "cell_type": "code",
   "execution_count": null,
   "id": "f2835448-bb49-47cc-b86a-8792d2631025",
   "metadata": {},
   "outputs": [],
   "source": [
    "helm-chart/\n",
    "│── templates/\n",
    "│   ├── deployment.yaml\n",
    "│   ├── service.yaml\n",
    "│   ├── ingress.yaml\n",
    "│── values.yaml\n",
    "│── Chart.yaml\n"
   ]
  },
  {
   "cell_type": "code",
   "execution_count": null,
   "id": "6acb2e5e-54e4-4f10-b313-82ac72f600ba",
   "metadata": {},
   "outputs": [],
   "source": []
  },
  {
   "cell_type": "markdown",
   "id": "ad8de665-6aae-4c2f-9fb6-0cd37e119f7f",
   "metadata": {},
   "source": [
    "#### Example Deployment Template (templates/deployment.yaml):"
   ]
  },
  {
   "cell_type": "code",
   "execution_count": null,
   "id": "41e30ea7-8978-4db1-9015-58e26a632029",
   "metadata": {},
   "outputs": [],
   "source": [
    "apiVersion: apps/v1\n",
    "kind: Deployment\n",
    "metadata:\n",
    "  name: {{ .Release.Name }}-iris\n",
    "spec:\n",
    "  replicas: 2\n",
    "  selector:\n",
    "    matchLabels:\n",
    "      app: iris\n",
    "  template:\n",
    "    metadata:\n",
    "      labels:\n",
    "        app: iris\n",
    "    spec:\n",
    "      containers:\n",
    "      - name: iris\n",
    "        image: your-dockerhub/iris-api:latest\n",
    "        ports:\n",
    "        - containerPort: 8000\n"
   ]
  },
  {
   "cell_type": "markdown",
   "id": "f867f437-4937-4911-a5dc-bec8bfff5db4",
   "metadata": {},
   "source": [
    "#### Jenkinsfile for CI/CD"
   ]
  },
  {
   "cell_type": "code",
   "execution_count": null,
   "id": "ec93c9bd-e821-4c0d-8188-8678038b29f9",
   "metadata": {},
   "outputs": [],
   "source": [
    "pipeline {\n",
    "    agent any\n",
    "    stages {\n",
    "        stage('Train Model') {\n",
    "            steps {\n",
    "                sh 'python train_model.py'\n",
    "            }\n",
    "        }\n",
    "        stage('Build & Push Docker Image') {\n",
    "            steps {\n",
    "                sh 'docker build -t your-dockerhub/iris-api:latest .'\n",
    "                sh 'docker push your-dockerhub/iris-api:latest'\n",
    "            }\n",
    "        }\n",
    "        stage('Deploy to K8s via Helm') {\n",
    "            steps {\n",
    "                sh 'helm upgrade --install iris helm-chart/ --namespace mlops'\n",
    "            }\n",
    "        }\n",
    "    }\n",
    "}\n"
   ]
  },
  {
   "cell_type": "markdown",
   "id": "92d220cc-655e-4365-b7ae-45f9db97831a",
   "metadata": {},
   "source": [
    "#### Monitoring Stack\n",
    "Deploy Prometheus & Grafana via Helm:"
   ]
  },
  {
   "cell_type": "code",
   "execution_count": null,
   "id": "d6d3a23d-6882-4ba7-9be6-92d9a2ba47d4",
   "metadata": {},
   "outputs": [],
   "source": [
    "helm repo add prometheus-community https://prometheus-community.github.io/helm-charts\n",
    "helm install prom prometheus-community/prometheus\n",
    "helm install graf grafana/grafana\n"
   ]
  },
  {
   "cell_type": "code",
   "execution_count": null,
   "id": "fab1b088-c8e3-4e4b-8f43-104c0e6fa45f",
   "metadata": {},
   "outputs": [],
   "source": []
  }
 ],
 "metadata": {
  "kernelspec": {
   "display_name": "Python 3 (ipykernel)",
   "language": "python",
   "name": "python3"
  },
  "language_info": {
   "codemirror_mode": {
    "name": "ipython",
    "version": 3
   },
   "file_extension": ".py",
   "mimetype": "text/x-python",
   "name": "python",
   "nbconvert_exporter": "python",
   "pygments_lexer": "ipython3",
   "version": "3.12.2"
  }
 },
 "nbformat": 4,
 "nbformat_minor": 5
}
