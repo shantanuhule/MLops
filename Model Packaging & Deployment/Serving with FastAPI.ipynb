{
 "cells": [
  {
   "cell_type": "markdown",
   "id": "1b1fd601-3051-429c-92f7-f7697dc656cc",
   "metadata": {},
   "source": [
    "###  Step 1: Train & Save the Model"
   ]
  },
  {
   "cell_type": "markdown",
   "id": "2e0a4aad-a062-4e43-9766-ae8d61324237",
   "metadata": {},
   "source": [
    "train_model.py"
   ]
  },
  {
   "cell_type": "code",
   "execution_count": null,
   "id": "872b602d-5420-431c-a00e-3766bc2ef8cd",
   "metadata": {},
   "outputs": [],
   "source": [
    "import joblib\n",
    "from sklearn.datasets import load_iris\n",
    "from sklearn.ensemble import RandomForestClassifier\n",
    "\n",
    "# Load data and train model\n",
    "iris = load_iris()\n",
    "X, y = iris.data, iris.target\n",
    "model = RandomForestClassifier()\n",
    "model.fit(X, y)\n",
    "\n",
    "# Save model\n",
    "joblib.dump(model, \"iris_model.pkl\")\n",
    "print(\"Model saved as iris_model.pkl\")\n"
   ]
  },
  {
   "cell_type": "markdown",
   "id": "8e75e577-dc62-4118-9cf0-3914bcb88f14",
   "metadata": {},
   "source": [
    "Run it locally or on your training environment:"
   ]
  },
  {
   "cell_type": "code",
   "execution_count": null,
   "id": "a74d06e3-ede1-4f11-b636-82232900e1f6",
   "metadata": {},
   "outputs": [],
   "source": [
    "python train_model.py\n"
   ]
  },
  {
   "cell_type": "markdown",
   "id": "78971ca3-0da2-4740-9e2a-c3d798a9f0cf",
   "metadata": {},
   "source": [
    "### Step 2: Create FastAPI App"
   ]
  },
  {
   "cell_type": "markdown",
   "id": "6f2dda8a-626a-4b3c-84ab-6e971e8cbc9d",
   "metadata": {},
   "source": [
    "main.py"
   ]
  },
  {
   "cell_type": "code",
   "execution_count": null,
   "id": "b7f684ad-3aed-46ff-b0f2-ebc6b941b534",
   "metadata": {},
   "outputs": [],
   "source": [
    "from fastapi import FastAPI\n",
    "from pydantic import BaseModel\n",
    "import joblib\n",
    "import numpy as np\n",
    "\n",
    "app = FastAPI()\n",
    "\n",
    "# Load model at startup\n",
    "model = joblib.load(\"iris_model.pkl\")\n",
    "\n",
    "class IrisInput(BaseModel):\n",
    "    data: list  # expects [[5.1, 3.5, 1.4, 0.2]]\n",
    "\n",
    "@app.post(\"/predict/\")\n",
    "def predict(iris: IrisInput):\n",
    "    prediction = model.predict(np.array(iris.data))\n",
    "    return {\"prediction\": prediction.tolist()}\n"
   ]
  },
  {
   "cell_type": "markdown",
   "id": "7d1908b6-a15d-437b-95bb-3a5fe752a9c9",
   "metadata": {},
   "source": [
    "### Step 3: Create Requirements File"
   ]
  },
  {
   "cell_type": "code",
   "execution_count": null,
   "id": "502f4d95-c19f-4b6d-adcb-2a36859d26ce",
   "metadata": {},
   "outputs": [],
   "source": [
    "fastapi\n",
    "uvicorn\n",
    "scikit-learn\n",
    "joblib\n",
    "numpy\n"
   ]
  },
  {
   "cell_type": "markdown",
   "id": "bd13e4d1-f870-4571-84a0-fd8e545ae7b0",
   "metadata": {},
   "source": [
    "### Step 4: Dockerfile"
   ]
  },
  {
   "cell_type": "code",
   "execution_count": null,
   "id": "988bf383-cf90-4055-9b28-53dab0e5421d",
   "metadata": {},
   "outputs": [],
   "source": [
    "FROM python:3.9-slim\n",
    "\n",
    "WORKDIR /app\n",
    "\n",
    "COPY requirements.txt .\n",
    "RUN pip install --no-cache-dir -r requirements.txt\n",
    "\n",
    "COPY iris_model.pkl .\n",
    "COPY main.py .\n",
    "\n",
    "CMD [\"uvicorn\", \"main:app\", \"--host\", \"0.0.0.0\", \"--port\", \"8000\"]\n"
   ]
  },
  {
   "cell_type": "markdown",
   "id": "6552e917-9cfa-47d3-90a8-509380775b18",
   "metadata": {},
   "source": [
    "### Step 5: Build and Run Docker Locally"
   ]
  },
  {
   "cell_type": "code",
   "execution_count": null,
   "id": "6b6bafb8-76f8-47e5-be99-0b1eddb4ce3d",
   "metadata": {},
   "outputs": [],
   "source": [
    "docker build -t iris-fastapi-app .\n",
    "docker run -p 8000:8000 iris-fastapi-app\n"
   ]
  },
  {
   "cell_type": "markdown",
   "id": "bff7a0da-85fa-4a46-a8ad-5dc1a461f686",
   "metadata": {},
   "source": [
    "Test with:"
   ]
  },
  {
   "cell_type": "code",
   "execution_count": null,
   "id": "98374ec3-7129-477c-913e-6fdd9ae53c56",
   "metadata": {},
   "outputs": [],
   "source": [
    "curl -X POST http://localhost:8000/predict/ \\\n",
    "-H \"Content-Type: application/json\" \\\n",
    "-d '{\"data\": [[5.1, 3.5, 1.4, 0.2]]}'\n"
   ]
  },
  {
   "cell_type": "markdown",
   "id": "0f506e30-d2b2-4f33-8328-9dfaf03b48fb",
   "metadata": {},
   "source": [
    "### Step 6: Kubernetes Deployment"
   ]
  },
  {
   "cell_type": "code",
   "execution_count": null,
   "id": "b6db9253-ef68-4165-b3e2-6d1fa5c78cf8",
   "metadata": {},
   "outputs": [],
   "source": [
    "apiVersion: apps/v1\n",
    "kind: Deployment\n",
    "metadata:\n",
    "  name: iris-fastapi\n",
    "spec:\n",
    "  replicas: 1\n",
    "  selector:\n",
    "    matchLabels:\n",
    "      app: iris-fastapi\n",
    "  template:\n",
    "    metadata:\n",
    "      labels:\n",
    "        app: iris-fastapi\n",
    "    spec:\n",
    "      containers:\n",
    "        - name: iris-fastapi\n",
    "          image: your-dockerhub-username/iris-fastapi-app:latest\n",
    "          ports:\n",
    "            - containerPort: 8000\n",
    "---\n",
    "apiVersion: v1\n",
    "kind: Service\n",
    "metadata:\n",
    "  name: iris-fastapi-service\n",
    "spec:\n",
    "  selector:\n",
    "    app: iris-fastapi\n",
    "  ports:\n",
    "    - protocol: TCP\n",
    "      port: 80\n",
    "      targetPort: 8000\n",
    "  type: LoadBalancer\n"
   ]
  },
  {
   "cell_type": "markdown",
   "id": "c2f0b18e-07ac-4883-8b8e-80dbf90f3c84",
   "metadata": {},
   "source": [
    "### Step 7: Push Docker Image"
   ]
  },
  {
   "cell_type": "code",
   "execution_count": null,
   "id": "0f9b2820-f99c-45e6-bb72-62184a7440b3",
   "metadata": {},
   "outputs": [],
   "source": [
    "docker tag iris-fastapi-app your-dockerhub-username/iris-fastapi-app:latest\n",
    "docker push your-dockerhub-username/iris-fastapi-app:latest\n"
   ]
  },
  {
   "cell_type": "markdown",
   "id": "1f72cbf3-6a57-4f0c-b37a-4630f5ba1bc6",
   "metadata": {},
   "source": [
    "### Step 8: Deploy to Kubernetes"
   ]
  },
  {
   "cell_type": "code",
   "execution_count": null,
   "id": "cc4791b8-3cec-4f41-b9e0-489fdb2bfb13",
   "metadata": {},
   "outputs": [],
   "source": [
    "kubectl apply -f k8s-deployment.yaml\n"
   ]
  },
  {
   "cell_type": "markdown",
   "id": "16a63d9b-8438-4c08-93f6-d1f161d6b485",
   "metadata": {},
   "source": [
    "###  Step 9: Access the Model"
   ]
  },
  {
   "cell_type": "markdown",
   "id": "4a195f9f-ec96-49cd-9bbc-10aae7f7f631",
   "metadata": {},
   "source": [
    "Once deployed, access the service using:\n",
    "\n",
    "External IP (from kubectl get svc iris-fastapi-service)\n",
    "\n",
    "Or expose using Ingress\n",
    "\n",
    "Test the prediction endpoint similarly using curl or Postman."
   ]
  },
  {
   "cell_type": "code",
   "execution_count": null,
   "id": "c1849865-af64-41df-b6e4-8e598a05c3c4",
   "metadata": {},
   "outputs": [],
   "source": []
  },
  {
   "cell_type": "code",
   "execution_count": null,
   "id": "3abb0293-1543-4019-8f77-856b253d02f7",
   "metadata": {},
   "outputs": [],
   "source": []
  }
 ],
 "metadata": {
  "kernelspec": {
   "display_name": "Python 3 (ipykernel)",
   "language": "python",
   "name": "python3"
  },
  "language_info": {
   "codemirror_mode": {
    "name": "ipython",
    "version": 3
   },
   "file_extension": ".py",
   "mimetype": "text/x-python",
   "name": "python",
   "nbconvert_exporter": "python",
   "pygments_lexer": "ipython3",
   "version": "3.12.2"
  }
 },
 "nbformat": 4,
 "nbformat_minor": 5
}
