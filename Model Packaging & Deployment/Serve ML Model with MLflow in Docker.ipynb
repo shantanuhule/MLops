{
 "cells": [
  {
   "cell_type": "markdown",
   "id": "e845d5a9-f7fd-4722-b047-481453c52c7d",
   "metadata": {},
   "source": [
    "## Serve ML Model with MLflow in Docker"
   ]
  },
  {
   "cell_type": "markdown",
   "id": "be6cb46a-f288-4b4c-a182-3bc9c0f5491f",
   "metadata": {},
   "source": [
    "### 1. Train and Save the Model (MLflow format)"
   ]
  },
  {
   "cell_type": "markdown",
   "id": "54c4e958-6914-41a2-b109-336d388f6e95",
   "metadata": {},
   "source": [
    "#### create a script : train_model.py"
   ]
  },
  {
   "cell_type": "code",
   "execution_count": null,
   "id": "4b8215c4-25bf-4475-80bc-bd04809d2f0a",
   "metadata": {},
   "outputs": [],
   "source": [
    "# train_model.py\n",
    "import mlflow\n",
    "import mlflow.sklearn\n",
    "from sklearn.datasets import load_iris\n",
    "from sklearn.ensemble import RandomForestClassifier\n",
    "\n",
    "# Load data\n",
    "iris = load_iris()\n",
    "X, y = iris.data, iris.target\n",
    "\n",
    "# Train model\n",
    "model = RandomForestClassifier()\n",
    "model.fit(X, y)\n",
    "\n",
    "# Save model in MLflow format\n",
    "mlflow.sklearn.save_model(model, \"model\")\n"
   ]
  },
  {
   "cell_type": "markdown",
   "id": "9b7f5d27-3d4a-4ba2-acfd-52978fe6481a",
   "metadata": {},
   "source": [
    "run it using:"
   ]
  },
  {
   "cell_type": "code",
   "execution_count": null,
   "id": "1c217c88-a3fa-4258-b7ff-3e98fd33a6d1",
   "metadata": {},
   "outputs": [],
   "source": [
    "python train_model.py\n"
   ]
  },
  {
   "cell_type": "markdown",
   "id": "6cb3fa1d-b04c-4237-9ef1-605a28d1c7c4",
   "metadata": {},
   "source": [
    "It will create a directory model/ in MLflow format."
   ]
  },
  {
   "cell_type": "markdown",
   "id": "4d766468-91de-4c53-869d-dc64b5b49243",
   "metadata": {},
   "source": [
    "### 2. Create a Dockerfile to Serve the Model"
   ]
  },
  {
   "cell_type": "code",
   "execution_count": null,
   "id": "814b4581-e582-4c22-b870-5a8fb33308a9",
   "metadata": {},
   "outputs": [],
   "source": [
    "# Dockerfile\n",
    "FROM python:3.10-slim\n",
    "\n",
    "# Install system dependencies\n",
    "RUN apt-get update && apt-get install -y curl && rm -rf /var/lib/apt/lists/*\n",
    "\n",
    "# Install MLflow and dependencies\n",
    "RUN pip install mlflow scikit-learn pandas\n",
    "\n",
    "# Set working directory\n",
    "WORKDIR /app\n",
    "\n",
    "# Copy saved ML model\n",
    "COPY model /app/model\n",
    "\n",
    "# Expose MLflow's default port\n",
    "EXPOSE 5000\n",
    "\n",
    "# Start MLflow model server\n",
    "CMD [\"mlflow\", \"models\", \"serve\", \"-m\", \"model\", \"-h\", \"0.0.0.0\", \"-p\", \"5000\"]\n"
   ]
  },
  {
   "cell_type": "markdown",
   "id": "13e1e2c1-17dd-4c15-859c-bbde29d09406",
   "metadata": {},
   "source": [
    "Build Docker Image"
   ]
  },
  {
   "cell_type": "code",
   "execution_count": null,
   "id": "fd00be77-6da5-48f0-aff5-125f75341881",
   "metadata": {},
   "outputs": [],
   "source": [
    "docker build -t mlflow-model-server .\n"
   ]
  },
  {
   "cell_type": "markdown",
   "id": "ca114f31-2c4b-42e1-83ee-27311acf1604",
   "metadata": {},
   "source": [
    "Run the Container"
   ]
  },
  {
   "cell_type": "code",
   "execution_count": null,
   "id": "82220048-e435-441b-a0c6-fce6dfc44402",
   "metadata": {},
   "outputs": [],
   "source": [
    "docker run -p 5000:5000 mlflow-model-server\n"
   ]
  },
  {
   "cell_type": "markdown",
   "id": "939bceb5-a09d-4860-b188-96dd79aa6500",
   "metadata": {},
   "source": [
    "This starts the MLflow server inside the container, serving the model at:"
   ]
  },
  {
   "cell_type": "code",
   "execution_count": null,
   "id": "37d14938-4f99-4da2-a822-307adaaac7ab",
   "metadata": {},
   "outputs": [],
   "source": [
    "http://localhost:5000/invocations"
   ]
  },
  {
   "cell_type": "markdown",
   "id": "de94bb9d-6480-4052-884a-ed1dfdcf5795",
   "metadata": {},
   "source": [
    "### Test Model Inference (via curl or Postman)"
   ]
  },
  {
   "cell_type": "code",
   "execution_count": null,
   "id": "5c3327f7-e5e8-40dd-8f6b-0f308d2585eb",
   "metadata": {},
   "outputs": [],
   "source": [
    "curl -X POST http://localhost:5000/invocations \\\n",
    "-H \"Content-Type: application/json\" \\\n",
    "-d '{\"columns\":[\"sepal length (cm)\", \"sepal width (cm)\", \"petal length (cm)\", \"petal width (cm)\"],\"data\":[[5.1, 3.5, 1.4, 0.2]]}'\n"
   ]
  },
  {
   "cell_type": "markdown",
   "id": "5267b77c-182a-4d9b-ae8d-528d95100c8a",
   "metadata": {},
   "source": [
    "#### Folder Structure"
   ]
  },
  {
   "cell_type": "code",
   "execution_count": null,
   "id": "88dd560d-1a1b-4778-b1fd-d7ea500ffee3",
   "metadata": {},
   "outputs": [],
   "source": [
    "your_project/\n",
    "├── Dockerfile\n",
    "├── train_model.py\n",
    "└── model/\n",
    "    ├── MLmodel\n",
    "    ├── conda.yaml\n",
    "    └── artifacts.pkl (etc.)\n"
   ]
  },
  {
   "cell_type": "code",
   "execution_count": null,
   "id": "bc97f944-57dd-4ed6-bb5f-0f9a3c3d2209",
   "metadata": {},
   "outputs": [],
   "source": []
  },
  {
   "cell_type": "code",
   "execution_count": null,
   "id": "f55c5a87-f4c1-4e2a-9d68-4b78f8209b7f",
   "metadata": {},
   "outputs": [],
   "source": []
  },
  {
   "cell_type": "code",
   "execution_count": null,
   "id": "9df52288-6400-45d0-8df8-bb9d882ee0db",
   "metadata": {},
   "outputs": [],
   "source": []
  }
 ],
 "metadata": {
  "kernelspec": {
   "display_name": "Python 3 (ipykernel)",
   "language": "python",
   "name": "python3"
  },
  "language_info": {
   "codemirror_mode": {
    "name": "ipython",
    "version": 3
   },
   "file_extension": ".py",
   "mimetype": "text/x-python",
   "name": "python",
   "nbconvert_exporter": "python",
   "pygments_lexer": "ipython3",
   "version": "3.12.2"
  }
 },
 "nbformat": 4,
 "nbformat_minor": 5
}
