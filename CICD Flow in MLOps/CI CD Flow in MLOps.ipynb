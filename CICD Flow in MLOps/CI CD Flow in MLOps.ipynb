{
 "cells": [
  {
   "cell_type": "markdown",
   "id": "70ab816d-8e6d-4b44-9285-51bdeeccba58",
   "metadata": {},
   "source": [
    "## CI/CD Flow in MLOps (Simplified)"
   ]
  },
  {
   "cell_type": "markdown",
   "id": "4ac888d9-5f01-432d-a6d2-95a73ee8c87a",
   "metadata": {},
   "source": [
    "1. Developer pushes new model code to GitHub\n",
    "2. CI/CD pipeline is triggered (GitHub Actions)\n",
    "3. Pipeline stages:\n",
    "   a. Lint & test Python code\n",
    "   b. Run training script → generate model.pkl\n",
    "   c. Register model in MLflow or S3\n",
    "   d. Build Docker image with model & API\n",
    "   e. Push Docker image to registry (e.g., DockerHub)\n",
    "   f. Deploy using Helm/K8s manifest to Kubernetes cluster\n",
    "4. Monitor logs, performance, and drift\n"
   ]
  },
  {
   "cell_type": "markdown",
   "id": "bd50539e-5066-43d7-816b-7a97b2b88d57",
   "metadata": {},
   "source": [
    "### Example: CI/CD Pipeline for ML using GitHub Actions"
   ]
  },
  {
   "cell_type": "code",
   "execution_count": null,
   "id": "385a1109-9087-4a1a-9957-88a3ed924085",
   "metadata": {},
   "outputs": [],
   "source": [
    ".\n",
    "├── train.py\n",
    "├── model/\n",
    "│   └── model.pkl\n",
    "├── app/\n",
    "│   └── main.py  # FastAPI app\n",
    "├── Dockerfile\n",
    "├── requirements.txt\n",
    "├── .github/\n",
    "│   └── workflows/\n",
    "│       └── ml_pipeline.yml\n"
   ]
  },
  {
   "cell_type": "markdown",
   "id": "4636af24-9d79-4d31-bcc0-211479ba8eb2",
   "metadata": {},
   "source": [
    "ml_pipeline.yml (Github Actions)"
   ]
  },
  {
   "cell_type": "code",
   "execution_count": null,
   "id": "99f80f5c-2d00-42ae-b8b5-c5d7b507a805",
   "metadata": {},
   "outputs": [],
   "source": [
    "name: ML CI/CD Pipeline\n",
    "\n",
    "on:\n",
    "  push:\n",
    "    branches: [main]\n",
    "\n",
    "jobs:\n",
    "  build-and-deploy:\n",
    "    runs-on: ubuntu-latest\n",
    "\n",
    "    steps:\n",
    "    - name: Checkout Code\n",
    "      uses: actions/checkout@v2\n",
    "\n",
    "    - name: Set up Python\n",
    "      uses: actions/setup-python@v2\n",
    "      with:\n",
    "        python-version: 3.9\n",
    "\n",
    "    - name: Install Dependencies\n",
    "      run: |\n",
    "        pip install -r requirements.txt\n",
    "\n",
    "    - name: Run Unit Tests\n",
    "      run: |\n",
    "        pytest tests/\n",
    "\n",
    "    - name: Train Model\n",
    "      run: |\n",
    "        python train.py\n",
    "\n",
    "    - name: Build Docker Image\n",
    "      run: |\n",
    "        docker build -t yourdockerhubuser/ml-fastapi:latest .\n",
    "\n",
    "    - name: Push Docker Image\n",
    "      run: |\n",
    "        echo \"${{ secrets.DOCKER_PASSWORD }}\" | docker login -u \"${{ secrets.DOCKER_USERNAME }}\" --password-stdin\n",
    "        docker push yourdockerhubuser/ml-fastapi:latest\n",
    "\n",
    "    - name: Deploy to Kubernetes\n",
    "      run: |\n",
    "        kubectl apply -f k8s/deployment.yaml\n"
   ]
  },
  {
   "cell_type": "code",
   "execution_count": null,
   "id": "d57ba195-cf97-43f4-9a6d-b6b394ac9537",
   "metadata": {},
   "outputs": [],
   "source": []
  },
  {
   "cell_type": "markdown",
   "id": "de69214c-2b03-4f98-86a9-6f8cd2163546",
   "metadata": {},
   "source": [
    "\n",
    "\n",
    "### CI/CD pipeline using GitHub Actions to automate the process of:\n",
    "\n",
    "Model training\n",
    "\n",
    "Packaging and serving via FastAPI\n",
    "\n",
    "Docker image build & push\n",
    "\n",
    "Kubernetes deployment"
   ]
  },
  {
   "cell_type": "markdown",
   "id": "f7e58865-ab31-400d-a5da-8b9b75fc4869",
   "metadata": {},
   "source": [
    "####  Project Structure"
   ]
  },
  {
   "cell_type": "code",
   "execution_count": null,
   "id": "204d4948-70c9-4f22-a242-aca5c12bf887",
   "metadata": {},
   "outputs": [],
   "source": [
    "mlops-pipeline/\n",
    "│\n",
    "├── .github/\n",
    "│   └── workflows/\n",
    "│       └── ci-cd.yml        <-- GitHub Actions workflow\n",
    "│\n",
    "├── app/\n",
    "│   ├── model/\n",
    "│   │   ├── train.py         <-- ML training script\n",
    "│   │   └── model.pkl        <-- Trained model (generated)\n",
    "│   │\n",
    "│   └── main.py              <-- FastAPI app to serve model\n",
    "│\n",
    "├── Dockerfile\n",
    "├── k8s/\n",
    "│   ├── deployment.yaml\n",
    "│   └── service.yaml\n",
    "├── requirements.txt\n",
    "└── README.md\n"
   ]
  },
  {
   "cell_type": "markdown",
   "id": "3a3d69fb-3e2b-4e11-b399-b9de8dbe759d",
   "metadata": {},
   "source": [
    "#### Step 1: ML Training Script (train.py)"
   ]
  },
  {
   "cell_type": "code",
   "execution_count": null,
   "id": "42431c97-94d3-4fec-840a-adef8f9cd519",
   "metadata": {},
   "outputs": [],
   "source": [
    "# app/model/train.py\n",
    "import pickle\n",
    "from sklearn.linear_model import LogisticRegression\n",
    "from sklearn.datasets import load_iris\n",
    "\n",
    "X, y = load_iris(return_X_y=True)\n",
    "model = LogisticRegression()\n",
    "model.fit(X, y)\n",
    "\n",
    "# Save model\n",
    "with open(\"app/model/model.pkl\", \"wb\") as f:\n",
    "    pickle.dump(model, f)\n"
   ]
  },
  {
   "cell_type": "markdown",
   "id": "d3e05186-586f-43d0-946c-21618afb2a09",
   "metadata": {},
   "source": [
    "#### Step 2: FastAPI App (main.py)"
   ]
  },
  {
   "cell_type": "code",
   "execution_count": null,
   "id": "717cfff5-079e-4323-bc22-cd75641498ce",
   "metadata": {},
   "outputs": [],
   "source": [
    "# app/main.py\n",
    "from fastapi import FastAPI\n",
    "import pickle\n",
    "from pydantic import BaseModel\n",
    "\n",
    "# Load model\n",
    "with open(\"app/model/model.pkl\", \"rb\") as f:\n",
    "    model = pickle.load(f)\n",
    "\n",
    "app = FastAPI()\n",
    "\n",
    "class InputData(BaseModel):\n",
    "    features: list\n",
    "\n",
    "@app.post(\"/predict\")\n",
    "def predict(data: InputData):\n",
    "    pred = model.predict([data.features])\n",
    "    return {\"prediction\": pred.tolist()}\n"
   ]
  },
  {
   "cell_type": "markdown",
   "id": "bb3a3449-8e3f-4fef-b376-af3f5880477e",
   "metadata": {},
   "source": [
    "#### Step 3: Dockerfile"
   ]
  },
  {
   "cell_type": "code",
   "execution_count": null,
   "id": "f7374210-4bfa-46ed-88ed-637022492426",
   "metadata": {},
   "outputs": [],
   "source": [
    "# Dockerfile\n",
    "FROM python:3.10-slim\n",
    "\n",
    "WORKDIR /app\n",
    "\n",
    "COPY requirements.txt .\n",
    "RUN pip install -r requirements.txt\n",
    "\n",
    "COPY app/ ./app/\n",
    "\n",
    "CMD [\"uvicorn\", \"app.main:app\", \"--host\", \"0.0.0.0\", \"--port\", \"80\"]\n"
   ]
  },
  {
   "cell_type": "markdown",
   "id": "b7d3ac6b-7a74-4e29-8c1c-e1a9a5ca7b27",
   "metadata": {},
   "source": [
    "#### Step 4: Kubernetes Deployment YAML"
   ]
  },
  {
   "cell_type": "code",
   "execution_count": null,
   "id": "63df34ac-c793-4186-a78a-7ad4689bac47",
   "metadata": {},
   "outputs": [],
   "source": [
    "# k8s/deployment.yaml\n",
    "apiVersion: apps/v1\n",
    "kind: Deployment\n",
    "metadata:\n",
    "  name: ml-model\n",
    "spec:\n",
    "  replicas: 1\n",
    "  selector:\n",
    "    matchLabels:\n",
    "      app: ml-model\n",
    "  template:\n",
    "    metadata:\n",
    "      labels:\n",
    "        app: ml-model\n",
    "    spec:\n",
    "      containers:\n",
    "        - name: ml-container\n",
    "          image: your-dockerhub-username/ml-model:latest\n",
    "          ports:\n",
    "            - containerPort: 80\n",
    "\n",
    "\n",
    "\n",
    "# k8s/service.yaml\n",
    "apiVersion: v1\n",
    "kind: Service\n",
    "metadata:\n",
    "  name: ml-service\n",
    "spec:\n",
    "  selector:\n",
    "    app: ml-model\n",
    "  ports:\n",
    "    - protocol: TCP\n",
    "      port: 80\n",
    "      targetPort: 80\n",
    "  type: LoadBalancer\n"
   ]
  },
  {
   "cell_type": "markdown",
   "id": "83191e2a-bf93-4bbe-87ed-aac51e671280",
   "metadata": {},
   "source": [
    "#### Step 5: GitHub Actions Workflow"
   ]
  },
  {
   "cell_type": "code",
   "execution_count": null,
   "id": "df5e2c23-59d6-40e0-952f-971e06cc9e80",
   "metadata": {},
   "outputs": [],
   "source": [
    "# .github/workflows/ci-cd.yml\n",
    "name: MLOps CI/CD\n",
    "\n",
    "on:\n",
    "  push:\n",
    "    branches:\n",
    "      - main\n",
    "\n",
    "jobs:\n",
    "  build-and-deploy:\n",
    "    runs-on: ubuntu-latest\n",
    "\n",
    "    steps:\n",
    "    - name: Checkout Repo\n",
    "      uses: actions/checkout@v3\n",
    "\n",
    "    - name: Set up Python\n",
    "      uses: actions/setup-python@v4\n",
    "      with:\n",
    "        python-version: '3.10'\n",
    "\n",
    "    - name: Install dependencies\n",
    "      run: |\n",
    "        python -m pip install --upgrade pip\n",
    "        pip install -r requirements.txt\n",
    "\n",
    "    - name: Train Model\n",
    "      run: |\n",
    "        python app/model/train.py\n",
    "\n",
    "    - name: Build Docker image\n",
    "      run: |\n",
    "        docker build -t your-dockerhub-username/ml-model:latest .\n",
    "\n",
    "    - name: Login to DockerHub\n",
    "      uses: docker/login-action@v2\n",
    "      with:\n",
    "        username: ${{ secrets.DOCKER_USERNAME }}\n",
    "        password: ${{ secrets.DOCKER_PASSWORD }}\n",
    "\n",
    "    - name: Push Docker Image\n",
    "      run: |\n",
    "        docker push your-dockerhub-username/ml-model:latest\n",
    "\n",
    "    - name: Deploy to K8s\n",
    "      uses: azure/k8s-deploy@v4\n",
    "      with:\n",
    "        manifests: |\n",
    "          k8s/deployment.yaml\n",
    "          k8s/service.yaml\n",
    "        images: |\n",
    "          your-dockerhub-username/ml-model:latest\n",
    "        namespace: default\n",
    "        kubeconfig: ${{ secrets.KUBECONFIG }}\n"
   ]
  },
  {
   "cell_type": "code",
   "execution_count": null,
   "id": "94e65975-6920-4e88-9a65-b5d4b7ca7f00",
   "metadata": {},
   "outputs": [],
   "source": []
  },
  {
   "cell_type": "code",
   "execution_count": null,
   "id": "c7b6fdbd-1a35-4097-960f-c838d5462bf9",
   "metadata": {},
   "outputs": [],
   "source": []
  },
  {
   "cell_type": "code",
   "execution_count": null,
   "id": "19f81c7f-913c-4294-8204-0551ceb8f2b5",
   "metadata": {},
   "outputs": [],
   "source": []
  },
  {
   "cell_type": "markdown",
   "id": "7c2bcb19-a85c-4376-8637-3edc46e13b0a",
   "metadata": {},
   "source": [
    "### CI/CD pipeline for a Machine Learning project using the following tools:\n",
    "\n",
    "Jenkins – CI/CD orchestration\n",
    "\n",
    "MLflow – Experiment tracking\n",
    "\n",
    "Docker – Containerizing model + FastAPI\n",
    "\n",
    "Helm – Kubernetes deployment management"
   ]
  },
  {
   "cell_type": "markdown",
   "id": "610739a7-5706-4774-a699-9c128c223e2c",
   "metadata": {},
   "source": [
    "### Directory Structure (for reference)"
   ]
  },
  {
   "cell_type": "code",
   "execution_count": null,
   "id": "028ab3b1-a086-4667-a166-e2c19f0313af",
   "metadata": {},
   "outputs": [],
   "source": [
    "mlops-project/\n",
    "├── jenkins/\n",
    "│   └── Jenkinsfile\n",
    "├── mlflow/\n",
    "│   └── train_model.py\n",
    "├── app/\n",
    "│   ├── main.py\n",
    "│   ├── requirements.txt\n",
    "│   └── Dockerfile\n",
    "├── helm-chart/\n",
    "│   └── fastapi-ml-chart/\n",
    "│       ├── Chart.yaml\n",
    "│       ├── values.yaml\n",
    "│       └── templates/\n",
    "│           └── deployment.yaml\n",
    "├── .dockerignore\n",
    "└── .gitignore\n"
   ]
  },
  {
   "cell_type": "markdown",
   "id": "1b898dbb-fe1d-4bdd-9f53-e9b6942b7072",
   "metadata": {},
   "source": [
    "#### 1. Jenkinsfile"
   ]
  },
  {
   "cell_type": "code",
   "execution_count": null,
   "id": "5c572f07-e701-4af9-9c56-419a361a67a5",
   "metadata": {},
   "outputs": [],
   "source": [
    "pipeline {\n",
    "    agent any\n",
    "\n",
    "    environment {\n",
    "        DOCKER_IMAGE = 'yourdockerhubuser/iris-api:latest'\n",
    "        DOCKER_CREDENTIALS_ID = 'dockerhub-creds'\n",
    "    }\n",
    "\n",
    "    stages {\n",
    "        stage('Train and Log with MLflow') {\n",
    "            steps {\n",
    "                sh 'python3 mlflow/train_model.py'\n",
    "            }\n",
    "        }\n",
    "\n",
    "        stage('Build Docker Image') {\n",
    "            steps {\n",
    "                sh 'docker build -t $DOCKER_IMAGE ./app'\n",
    "            }\n",
    "        }\n",
    "\n",
    "        stage('Push Docker Image') {\n",
    "            steps {\n",
    "                withCredentials([usernamePassword(credentialsId: \"${DOCKER_CREDENTIALS_ID}\", usernameVariable: 'DOCKER_USER', passwordVariable: 'DOCKER_PASS')]) {\n",
    "                    sh 'echo \"$DOCKER_PASS\" | docker login -u \"$DOCKER_USER\" --password-stdin'\n",
    "                    sh 'docker push $DOCKER_IMAGE'\n",
    "                }\n",
    "            }\n",
    "        }\n",
    "\n",
    "        stage('Deploy to Kubernetes with Helm') {\n",
    "            steps {\n",
    "                sh 'helm upgrade --install iris-api ./helm-chart/fastapi-ml-chart --set image.repository=$DOCKER_IMAGE'\n",
    "            }\n",
    "        }\n",
    "    }\n",
    "}\n"
   ]
  },
  {
   "cell_type": "markdown",
   "id": "90c809dc-c17c-4942-8f89-d88f4f16b3e3",
   "metadata": {},
   "source": [
    "#### 2. MLflow Training Script (mlflow/train_model.py)"
   ]
  },
  {
   "cell_type": "code",
   "execution_count": null,
   "id": "ab3e2f14-32a9-4b5f-ba5d-414ac01ba70f",
   "metadata": {},
   "outputs": [],
   "source": [
    "import mlflow\n",
    "import mlflow.sklearn\n",
    "from sklearn.datasets import load_iris\n",
    "from sklearn.linear_model import LogisticRegression\n",
    "from sklearn.model_selection import train_test_split\n",
    "from sklearn.metrics import accuracy_score\n",
    "\n",
    "mlflow.set_tracking_uri(\"http://your-mlflow-server:5000\")  # Or localhost\n",
    "mlflow.set_experiment(\"iris-exp\")\n",
    "\n",
    "with mlflow.start_run():\n",
    "    iris = load_iris()\n",
    "    X_train, X_test, y_train, y_test = train_test_split(iris.data, iris.target, test_size=0.2)\n",
    "\n",
    "    model = LogisticRegression()\n",
    "    model.fit(X_train, y_train)\n",
    "    acc = accuracy_score(y_test, model.predict(X_test))\n",
    "\n",
    "    mlflow.log_metric(\"accuracy\", acc)\n",
    "    mlflow.sklearn.log_model(model, \"model\")\n"
   ]
  },
  {
   "cell_type": "markdown",
   "id": "c63a7c9b-fade-4995-a994-46f73f93206f",
   "metadata": {},
   "source": [
    "####  3. FastAPI App (app/main.py)"
   ]
  },
  {
   "cell_type": "code",
   "execution_count": null,
   "id": "2af68422-70a0-42e7-91d5-dee8884e7f37",
   "metadata": {},
   "outputs": [],
   "source": [
    "from fastapi import FastAPI\n",
    "import mlflow.sklearn\n",
    "import pandas as pd\n",
    "\n",
    "app = FastAPI()\n",
    "model = mlflow.sklearn.load_model(\"model\")  # Or local path or URI\n",
    "\n",
    "@app.get(\"/\")\n",
    "def read_root():\n",
    "    return {\"message\": \"Model is ready\"}\n",
    "\n",
    "@app.post(\"/predict\")\n",
    "def predict(features: list):\n",
    "    df = pd.DataFrame([features])\n",
    "    pred = model.predict(df)\n",
    "    return {\"prediction\": int(pred[0])}\n"
   ]
  },
  {
   "cell_type": "markdown",
   "id": "2a3e5377-53fe-4345-a086-120781596722",
   "metadata": {},
   "source": [
    "#### 4. Dockerfile (app/Dockerfile)"
   ]
  },
  {
   "cell_type": "code",
   "execution_count": null,
   "id": "be4947e2-a6d4-4946-9db0-e6b7fd8cdd7b",
   "metadata": {},
   "outputs": [],
   "source": [
    "FROM python:3.9-slim\n",
    "\n",
    "WORKDIR /app\n",
    "COPY requirements.txt .\n",
    "RUN pip install --no-cache-dir -r requirements.txt\n",
    "\n",
    "COPY . .\n",
    "\n",
    "CMD [\"uvicorn\", \"main:app\", \"--host\", \"0.0.0.0\", \"--port\", \"80\"]\n"
   ]
  },
  {
   "cell_type": "markdown",
   "id": "c275877b-4f31-4417-8be1-a96c979de3e3",
   "metadata": {},
   "source": [
    "#### requirements.txt"
   ]
  },
  {
   "cell_type": "code",
   "execution_count": null,
   "id": "b51c8d8a-6a21-4850-ac69-48e3515da32f",
   "metadata": {},
   "outputs": [],
   "source": [
    "fastapi\n",
    "uvicorn\n",
    "mlflow\n",
    "scikit-learn\n",
    "pandas\n"
   ]
  },
  {
   "cell_type": "markdown",
   "id": "509c3b31-49b7-4539-8325-1a4d8704a665",
   "metadata": {},
   "source": [
    "#### 5. Helm Chart (helm-chart/fastapi-ml-chart/values.yaml)"
   ]
  },
  {
   "cell_type": "code",
   "execution_count": null,
   "id": "cf7d6c8b-bb2b-4310-8773-e2e0fa2fe468",
   "metadata": {},
   "outputs": [],
   "source": [
    "replicaCount: 1\n",
    "\n",
    "image:\n",
    "  repository: yourdockerhubuser/iris-api\n",
    "  pullPolicy: Always\n",
    "  tag: latest\n",
    "\n",
    "service:\n",
    "  type: ClusterIP\n",
    "  port: 80\n",
    "\n",
    "resources: {}\n"
   ]
  },
  {
   "cell_type": "code",
   "execution_count": null,
   "id": "e4425c7f-d019-427e-b3fa-46e8e0e25077",
   "metadata": {},
   "outputs": [],
   "source": []
  },
  {
   "cell_type": "code",
   "execution_count": null,
   "id": "5370b15c-ff02-4e3f-9964-4cbd76f9d2c9",
   "metadata": {},
   "outputs": [],
   "source": []
  },
  {
   "cell_type": "code",
   "execution_count": null,
   "id": "9c5e33cc-20dd-4e4b-94be-2c85133fb658",
   "metadata": {},
   "outputs": [],
   "source": []
  }
 ],
 "metadata": {
  "kernelspec": {
   "display_name": "Python 3 (ipykernel)",
   "language": "python",
   "name": "python3"
  },
  "language_info": {
   "codemirror_mode": {
    "name": "ipython",
    "version": 3
   },
   "file_extension": ".py",
   "mimetype": "text/x-python",
   "name": "python",
   "nbconvert_exporter": "python",
   "pygments_lexer": "ipython3",
   "version": "3.12.2"
  }
 },
 "nbformat": 4,
 "nbformat_minor": 5
}
